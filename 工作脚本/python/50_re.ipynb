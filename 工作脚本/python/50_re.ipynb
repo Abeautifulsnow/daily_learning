{
 "metadata": {
  "language_info": {
   "codemirror_mode": {
    "name": "ipython",
    "version": 3
   },
   "file_extension": ".py",
   "mimetype": "text/x-python",
   "name": "python",
   "nbconvert_exporter": "python",
   "pygments_lexer": "ipython3",
   "version": "3.7.3-final"
  },
  "orig_nbformat": 2,
  "kernelspec": {
   "name": "python3",
   "display_name": "Python 3",
   "language": "python"
  }
 },
 "nbformat": 4,
 "nbformat_minor": 2,
 "cells": [
  {
   "cell_type": "code",
   "execution_count": 8,
   "metadata": {},
   "outputs": [
    {
     "output_type": "execute_result",
     "data": {
      "text/plain": [
       "['zhjhfsjk@yahho.com', '123456qq@qq.cn']"
      ]
     },
     "metadata": {},
     "execution_count": 8
    }
   ],
   "source": [
    "# match mail\n",
    "import re\n",
    "\n",
    "mail_pattern = r'[a-zA-Z0-9_-]+@[a-zA-Z0-9_-]+(?:\\.[a-zA-Z0-9_-]+)'\n",
    "strs = \"我的私人邮箱是zhjhfsjk@yahho.com，公司邮箱是123456qq@qq.cn\"\n",
    "re.findall(mail_pattern, strs)"
   ]
  },
  {
   "cell_type": "code",
   "execution_count": 48,
   "metadata": {},
   "outputs": [
    {
     "output_type": "execute_result",
     "data": {
      "text/plain": [
       "['31032419991231321X']"
      ]
     },
     "metadata": {},
     "execution_count": 48
    }
   ],
   "source": [
    "# ID number\n",
    "import re\n",
    "\n",
    "id_pattern = r\"[1-9]\\d{5}(?:[0-9]{2}|(?:[0-9]\\d))\\d{2}(?:(?:0[1-9])|(?:10|11|12))(?:(?:[0-2][1-9])|10|20|30|31)\\d{3}[0-9Xx]\"\n",
    "strs = '小明的身份证号是31032419991231321X，手机号码是13579246801'\n",
    "re.findall(id_pattern, strs)"
   ]
  },
  {
   "cell_type": "code",
   "execution_count": 54,
   "metadata": {},
   "outputs": [
    {
     "output_type": "execute_result",
     "data": {
      "text/plain": [
       "['13579246801']"
      ]
     },
     "metadata": {},
     "execution_count": 54
    }
   ],
   "source": [
    "# mobile number\n",
    "import re\n",
    "\n",
    "phone_pattern = r'1[3-9]\\d{9}'\n",
    "strs = '我的手机号码是13579246801'\n",
    "re.findall(phone_pattern, strs)"
   ]
  },
  {
   "cell_type": "code",
   "execution_count": 55,
   "metadata": {},
   "outputs": [
    {
     "output_type": "execute_result",
     "data": {
      "text/plain": [
       "['0371-86624508', '010-85554666']"
      ]
     },
     "metadata": {},
     "execution_count": 55
    }
   ],
   "source": [
    "# phone number\n",
    "import re\n",
    "\n",
    "phone_pattern = r'\\d{3,4}-\\d{7,8}'\n",
    "strs = '我的座机电话是0371-86624508，公司总部电话是010-85554666'\n",
    "re.findall(phone_pattern, strs)"
   ]
  },
  {
   "cell_type": "code",
   "execution_count": 57,
   "metadata": {},
   "outputs": [
    {
     "output_type": "execute_result",
     "data": {
      "text/plain": [
       "['https://www.python.org/']"
      ]
     },
     "metadata": {},
     "execution_count": 57
    }
   ],
   "source": [
    "# domain name\n",
    "import re\n",
    "\n",
    "domain_pattern = r'(?:(?:http:\\/\\/)|(?:https:\\/\\/))?(?:[\\w](?:[\\w\\-]{0,61}[\\w])?\\.)+[a-zA-Z]{2,6}(?:\\/)'\n",
    "strs = 'Python的官网地址是：https://www.python.org/'\n",
    "re.findall(domain_pattern, strs)"
   ]
  },
  {
   "cell_type": "code",
   "execution_count": 59,
   "metadata": {},
   "outputs": [
    {
     "output_type": "execute_result",
     "data": {
      "text/plain": [
       "['192.168.1.1', '192.168.8.85', '0.0.0.1', '255.255.255.0', '56.1.1.1']"
      ]
     },
     "metadata": {},
     "execution_count": 59
    }
   ],
   "source": [
    "# ip match\n",
    "import re\n",
    "\n",
    "ip_pattern = r'((?:(?:25[0-5]|2[0-4]\\d|[01]?\\d?\\d)\\.){3}(?:25[0-5]|2[0-4]\\d|[01]?\\d?\\d))'\n",
    "strs = '''请输入合法地址:\n",
    "192.168.1.1\n",
    "192.168.8.85\n",
    "0.0.0.1\n",
    "255.255.255.0\n",
    "256.1.1.1\n",
    "aa.bb.cc.dd\n",
    "'''\n",
    "re.findall(ip_pattern, strs)"
   ]
  },
  {
   "cell_type": "code",
   "execution_count": null,
   "metadata": {},
   "outputs": [],
   "source": []
  }
 ]
}